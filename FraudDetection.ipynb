{
 "cells": [
  {
   "cell_type": "code",
   "execution_count": 13,
   "id": "47283748-9488-46b5-a38e-fbc448dc449d",
   "metadata": {},
   "outputs": [
    {
     "name": "stdout",
     "output_type": "stream",
     "text": [
      "Fitting 3 folds for each of 1 candidates, totalling 3 fits\n",
      "Best Hyperparameters: {'colsample_bytree': 0.7, 'gamma': 0.6, 'learning_rate': 0.1, 'max_depth': 5, 'min_child_weight': 5, 'n_estimators': 400, 'scale_pos_weight': 7, 'subsample': 0.7}\n",
      "Test Accuracy (Best Model): 0.9989\n",
      "Confusion Matrix (Best Model):\n",
      " [[139386     46]\n",
      " [   105    625]]\n",
      "\n",
      "Classification Report (Best Model):\n",
      "               precision    recall  f1-score   support\n",
      "\n",
      "           0       1.00      1.00      1.00    139432\n",
      "           1       0.93      0.86      0.89       730\n",
      "\n",
      "    accuracy                           1.00    140162\n",
      "   macro avg       0.97      0.93      0.95    140162\n",
      "weighted avg       1.00      1.00      1.00    140162\n",
      "\n"
     ]
    }
   ],
   "source": [
    "import pandas as pd\n",
    "import numpy as np\n",
    "from haversine import haversine, Unit\n",
    "from sklearn.model_selection import train_test_split\n",
    "from sklearn.pipeline import Pipeline\n",
    "from sklearn.preprocessing import StandardScaler, OrdinalEncoder\n",
    "from sklearn.compose import ColumnTransformer\n",
    "import xgboost as xgb\n",
    "from sklearn.metrics import accuracy_score, confusion_matrix, classification_report\n",
    "from sklearn.model_selection import GridSearchCV\n",
    "\n",
    "seed = 65\n",
    "\n",
    "# Loading data\n",
    "data = pd.read_csv(\"cct_train.csv\")\n",
    "\n",
    "# Distance calculation function\n",
    "def caldistance(row):\n",
    "    ulocation = (row['lat'], row['long'])\n",
    "    mlocation = (row['merch_lat'], row['merch_long'])\n",
    "    return haversine(ulocation, mlocation, unit=Unit.KILOMETERS)\n",
    "\n",
    "# Adding column to dataset\n",
    "data['distance'] = data.apply(caldistance, axis=1)\n",
    "\n",
    "# Dropping less important features\n",
    "X = data.drop(columns=['is_fraud', 'street', 'city', 'state', 'zip', 'lat', 'long', 'dob', 'trans_num', 'trans_date', 'merch_lat', 'merch_long'])\n",
    "y = data['is_fraud']\n",
    "\n",
    "\n",
    "# Train-test split\n",
    "xtrain, xtemp, ytrain, ytemp = train_test_split(X, y, test_size=0.4, random_state=seed)\n",
    "xval, xtest, yval, ytest = train_test_split(xtemp, ytemp, test_size=0.5, random_state=seed)\n",
    "\n",
    "# Feature Encoding\n",
    "numfeatures = ['amt', 'city_pop', 'cc_num', 'acct_num', 'unix_time', 'distance']\n",
    "catfeatures = ['first', 'last', 'category', 'job', 'profile', 'merchant', 'ssn']\n",
    "numtransformer = Pipeline(steps=[('scaler', StandardScaler())])\n",
    "cattransformer = Pipeline(steps=[('ordinal', OrdinalEncoder(handle_unknown='use_encoded_value', unknown_value=-1))])\n",
    "\n",
    "preprocessor = ColumnTransformer(\n",
    "    transformers=[\n",
    "        ('num', numtransformer, numfeatures),\n",
    "        ('cat', cattransformer, catfeatures)\n",
    "    ])\n",
    "\n",
    "# Transforming Data\n",
    "xtrain = preprocessor.fit_transform(xtrain)\n",
    "xval = preprocessor.transform(xval)\n",
    "xtest = preprocessor.transform(xtest)\n",
    "\n",
    "# Hyperparameter tuning with GridSearchCV\n",
    "xgbparameter = {\n",
    "    'scale_pos_weight': [7],\n",
    "    'learning_rate': [0.1],\n",
    "    'n_estimators': [400],\n",
    "    'max_depth': [5],\n",
    "    'min_child_weight': [5],\n",
    "    'subsample': [0.7],\n",
    "    'colsample_bytree': [0.7],\n",
    "    'gamma': [0.6]\n",
    "}\n",
    "xgbgrid = GridSearchCV(\n",
    "    estimator=xgb.XGBClassifier(objective='binary:logistic', eval_metric='logloss'),\n",
    "    param_grid=xgbparameter,\n",
    "    scoring='roc_auc',\n",
    "    cv=3,\n",
    "    verbose=1,\n",
    "    n_jobs=-1\n",
    ")\n",
    "xgbgrid.fit(xtrain, ytrain)\n",
    "print(\"Best Hyperparameters:\", xgbgrid.best_params_)\n",
    "best = xgbgrid.best_estimator_\n",
    "\n",
    "# Best model\n",
    "ypred = best.predict(xtest)\n",
    "acc = accuracy_score(ytest, ypred)\n",
    "print(f\"Test Accuracy (Best Model): {acc:.4f}\")\n",
    "print(\"Confusion Matrix (Best Model):\\n\", confusion_matrix(ytest, ypred))\n",
    "print(\"\\nClassification Report (Best Model):\\n\", classification_report(ytest, ypred))"
   ]
  },
  {
   "cell_type": "code",
   "execution_count": 14,
   "id": "596a849f-9bbe-434d-aca7-b563ff6a7722",
   "metadata": {},
   "outputs": [
    {
     "data": {
      "text/plain": [
       "['T1.joblib']"
      ]
     },
     "execution_count": 14,
     "metadata": {},
     "output_type": "execute_result"
    }
   ],
   "source": [
    "import joblib\n",
    "\n",
    "# Saving the trained model\n",
    "joblib.dump(best, 'T1.joblib')"
   ]
  }
 ],
 "metadata": {
  "kernelspec": {
   "display_name": "Python 3 (ipykernel)",
   "language": "python",
   "name": "python3"
  },
  "language_info": {
   "codemirror_mode": {
    "name": "ipython",
    "version": 3
   },
   "file_extension": ".py",
   "mimetype": "text/x-python",
   "name": "python",
   "nbconvert_exporter": "python",
   "pygments_lexer": "ipython3",
   "version": "3.12.6"
  }
 },
 "nbformat": 4,
 "nbformat_minor": 5
}
